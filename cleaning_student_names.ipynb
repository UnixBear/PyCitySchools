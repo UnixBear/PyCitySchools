{
 "cells": [
  {
   "cell_type": "code",
   "execution_count": 2,
   "id": "insured-zambia",
   "metadata": {},
   "outputs": [],
   "source": [
    "import pandas as pd\n",
    "\n",
    "# List of high schools\n",
    "high_schools = [\"Huang High School\",  \"Figueroa High School\", \"Shelton High School\", \"Hernandez High School\",\"Griffin High School\",\"Wilson High School\", \"Cabrera High School\", \"Bailey High School\", \"Holden High School\", \"Pena High School\", \"Wright High School\",\"Rodriguez High School\", \"Johnson High School\", \"Ford High School\", \"Thomas High School\"]\n",
    "\n",
    "# A dictionary of high schools and the type of school.\n",
    "high_school_dicts = [{\"School ID\": 0, \"school_name\": \"Huang High    School\", \"type\": \"District\"},\n",
    "                   {\"School ID\": 1, \"school_name\": \"Figueroa High School\", \"type\": \"District\"},\n",
    "                    {\"School ID\": 2, \"school_name\":\"Shelton High School\", \"type\": \"Charter\"},\n",
    "                    {\"School ID\": 3, \"school_name\":\"Hernandez High School\", \"type\": \"District\"},\n",
    "                    {\"School ID\": 4, \"school_name\":\"Griffin High School\", \"type\": \"Charter\"}]\n",
    "\n",
    "school_series = pd.Series(high_schools)\n",
    "school_dataFrame= pd.DataFrame(high_school_dicts)\n",
    "missingGradesDF = pd.read_csv(\"Resources/missing_grades.csv\")\n",
    "missingGradesDF.fillna(85,inplace=True)\n",
    "school_id = school_dataFrame['School ID'].tolist()\n",
    "school_name = school_dataFrame['school_name'].tolist()\n",
    "school_type = school_dataFrame['type'].tolist()\n",
    "#to reconstruct the earlier df by assigning columns to this DF\n",
    "#school_df = pd.DataFrame()\n",
    "#school_df[\"school_id\"] = school_id"
   ]
  },
  {
   "cell_type": "code",
   "execution_count": 3,
   "id": "5fd43d1e",
   "metadata": {},
   "outputs": [],
   "source": [
    "schoolCompleteDF = pd.read_csv(\"Resources/schools_complete.csv\")\n",
    "studentCompleteDF = pd.read_csv(\"Resources/students_complete.csv\")\n",
    "#studentCompleteDF['student_name'][3] = 'Richard Scott'\n",
    "#better way to replace Dr. Richard Scott \n",
    "#studentCompleteDF.replace({'student_name': 'Dr. Richard Scott'}, 'Richard Scott', inplace=True)\n",
    "#only run once after completion\n",
    "#studentCompleteDF.to_csv('Resources/students_complete.csv')"
   ]
  },
  {
   "cell_type": "code",
   "execution_count": 6,
   "id": "49b71387",
   "metadata": {},
   "outputs": [
    {
     "name": "stdout",
     "output_type": "stream",
     "text": [
      "{'Lisa', 'Lori', 'Ian', 'Lynn', 'Cody', 'Sean', 'Greg', 'Tony', 'Noah', 'Dana', 'Jon', 'Marc', 'Dr.', 'Tina', 'Miss', 'Jill', 'Anne', 'Tara', 'Mr.', 'Judy', 'Leah', 'Troy', 'Gina', 'Mrs.', 'Kari', 'Luke', 'Adam', 'Emma', 'Todd', 'Cory', 'Erin', 'Mark', 'Sara', 'Seth', 'Gary', 'Omar', 'Paul', 'Ruth', 'Jose', 'Jodi', 'John', 'Kara', 'Joe', 'Ms.', 'Amy', 'Dawn', 'Erik', 'Gail', 'Toni', 'Mike', 'Carl', 'Eric', 'Kyle', 'Dale', 'Kim', 'Mary', 'Anna', 'Chad', 'Ryan'} \n",
      " {'Li', 'Roy', 'II', 'MD', 'Lee', 'Day', 'PhD', 'V', 'Kim', 'III', 'DDS', 'DVM', 'IV', 'Jr.', 'Cox'}\n"
     ]
    },
    {
     "name": "stderr",
     "output_type": "stream",
     "text": [
      "/tmp/ipykernel_2571/3614563649.py:22: FutureWarning: The default value of regex will change from True to False in a future version.\n",
      "  studentCompleteDF[\"student_name\"] = studentCompleteDF[\"student_name\"].str.replace(word,\"\")\n"
     ]
    }
   ],
   "source": [
    "student_names=studentCompleteDF[\"student_name\"].tolist()\n",
    "names_to_fix = []\n",
    "for name in student_names:\n",
    "    if len(name.split()) >= 3:\n",
    "        names_to_fix.append(name)\n",
    "prefixes=[]\n",
    "suffixes=[]\n",
    "for name in names_to_fix:\n",
    "    if len(name.split()[0]) <= 4:\n",
    "        prefixes.append(name.split()[0])\n",
    "for name in names_to_fix:\n",
    "    if len(name.split()[-1]) <= 3:\n",
    "        suffixes.append(name.split()[-1])\n",
    "print(set(prefixes),'\\n',set(suffixes))\n",
    "prefixes_to_remove = ['Ms.', 'Mrs.', 'Miss','Mr.', 'Dr.']\n",
    "suffixes_to_remove = ['MD','DDS', 'DVM','Ph.D']\n",
    "\n",
    "pre_suf_to_remove = prefixes_to_remove + suffixes_to_remove\n",
    "\n",
    "#removing prefixes and replacing them with nothing\n",
    "for word in pre_suf_to_remove:\n",
    "    studentCompleteDF[\"student_name\"] = studentCompleteDF[\"student_name\"].str.replace(word,\"\")\n"
   ]
  },
  {
   "cell_type": "code",
   "execution_count": 11,
   "id": "77bdcec6",
   "metadata": {},
   "outputs": [
    {
     "name": "stdout",
     "output_type": "stream",
     "text": [
      "0           Paul Bradley\n",
      "1           Victor Smith\n",
      "2        Kevin Rodriguez\n",
      "3          Richard Scott\n",
      "4             Bonnie Ray\n",
      "              ...       \n",
      "39165       Donna Howard\n",
      "39166          Dawn Bell\n",
      "39167     Rebecca Tanner\n",
      "39168       Desiree Kidd\n",
      "39169    Carolyn Jackson\n",
      "Name: student_name, Length: 39170, dtype: object\n"
     ]
    }
   ],
   "source": [
    "print(studentCompleteDF[\"student_name\"])"
   ]
  }
 ],
 "metadata": {
  "interpreter": {
   "hash": "5cb451d39beecfc9cc0fc417a38f93c707248a4cefc69ab2e1c68ce1f2eb2cfa"
  },
  "kernelspec": {
   "display_name": "Python 3",
   "language": "python",
   "name": "python3"
  },
  "language_info": {
   "codemirror_mode": {
    "name": "ipython",
    "version": 3
   },
   "file_extension": ".py",
   "mimetype": "text/x-python",
   "name": "python",
   "nbconvert_exporter": "python",
   "pygments_lexer": "ipython3",
   "version": "3.9.7"
  }
 },
 "nbformat": 4,
 "nbformat_minor": 5
}
